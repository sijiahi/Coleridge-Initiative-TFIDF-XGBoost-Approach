{
 "cells": [
  {
   "cell_type": "markdown",
   "id": "suited-transformation",
   "metadata": {
    "papermill": {
     "duration": 0.039935,
     "end_time": "2021-06-22T16:27:24.588134",
     "exception": false,
     "start_time": "2021-06-22T16:27:24.548199",
     "status": "completed"
    },
    "tags": []
   },
   "source": [
    "Explore the dataset\n",
    "Let's first look into how the dataset looks like."
   ]
  },
  {
   "cell_type": "markdown",
   "id": "sweet-honduras",
   "metadata": {
    "papermill": {
     "duration": 0.037919,
     "end_time": "2021-06-22T16:27:24.664513",
     "exception": false,
     "start_time": "2021-06-22T16:27:24.626594",
     "status": "completed"
    },
    "tags": []
   },
   "source": [
    "# 1 Import packages\n",
    "1 import common packages\n",
    "2 load train csv file and sample submission file"
   ]
  },
  {
   "cell_type": "code",
   "execution_count": 1,
   "id": "modular-reservoir",
   "metadata": {
    "execution": {
     "iopub.execute_input": "2021-06-22T16:27:24.745864Z",
     "iopub.status.busy": "2021-06-22T16:27:24.744424Z",
     "iopub.status.idle": "2021-06-22T16:27:24.749965Z",
     "shell.execute_reply": "2021-06-22T16:27:24.749479Z",
     "shell.execute_reply.started": "2021-06-22T16:17:59.013087Z"
    },
    "papermill": {
     "duration": 0.047231,
     "end_time": "2021-06-22T16:27:24.750085",
     "exception": false,
     "start_time": "2021-06-22T16:27:24.702854",
     "status": "completed"
    },
    "tags": []
   },
   "outputs": [],
   "source": [
    "import os\n",
    "import re\n",
    "import json\n",
    "import pickle\n",
    "from collections import defaultdict, Counter\n",
    "import gc\n",
    "#data science imports\n",
    "import pandas as pd\n",
    "import numpy as np\n",
    "from tqdm import tqdm\n",
    "\n",
    "import matplotlib.pyplot as plt"
   ]
  },
  {
   "cell_type": "code",
   "execution_count": 2,
   "id": "later-bunny",
   "metadata": {
    "execution": {
     "iopub.execute_input": "2021-06-22T16:27:24.834473Z",
     "iopub.status.busy": "2021-06-22T16:27:24.833950Z",
     "iopub.status.idle": "2021-06-22T16:27:24.939910Z",
     "shell.execute_reply": "2021-06-22T16:27:24.938971Z",
     "shell.execute_reply.started": "2021-06-22T16:17:59.024394Z"
    },
    "papermill": {
     "duration": 0.15209,
     "end_time": "2021-06-22T16:27:24.940071",
     "exception": false,
     "start_time": "2021-06-22T16:27:24.787981",
     "status": "completed"
    },
    "tags": []
   },
   "outputs": [
    {
     "data": {
      "text/plain": [
       "((19661, 5), (4, 2))"
      ]
     },
     "execution_count": 2,
     "metadata": {},
     "output_type": "execute_result"
    }
   ],
   "source": [
    "## This is to load sample files\n",
    "\"\"\" Loading data\"\"\"\n",
    "\n",
    "data_path = '/kaggle/input/coleridgeinitiative-show-us-the-data/'\n",
    "def read_json_from_folder(folder_name):\n",
    "    json_dict = {}\n",
    "    for filename in os.listdir(folder_name):\n",
    "        with open(os.path.join(folder_name, filename)) as f:\n",
    "            json_dict[filename[:-5]] = json.load(f)\n",
    "    return json_dict\n",
    "\n",
    "# train_dict = read_json_from_folder(os.path.join(data_path, 'train'))\n",
    "# test_dict = read_json_from_folder(os.path.join(data_path, 'test'))\n",
    "#load csv filess\n",
    "train_df = pd.read_csv(os.path.join(data_path, 'train.csv'))\n",
    "sample_sub = pd.read_csv(os.path.join(data_path,'sample_submission.csv'))\n",
    "    \n",
    "# len(train_dict), len(test_dict), \n",
    "train_df.shape, sample_sub.shape"
   ]
  },
  {
   "cell_type": "markdown",
   "id": "eastern-performance",
   "metadata": {
    "papermill": {
     "duration": 0.03947,
     "end_time": "2021-06-22T16:27:25.018962",
     "exception": false,
     "start_time": "2021-06-22T16:27:24.979492",
     "status": "completed"
    },
    "tags": []
   },
   "source": [
    "# 2 Let's take a peak of what train data looks like"
   ]
  },
  {
   "cell_type": "markdown",
   "id": "heard-affair",
   "metadata": {
    "papermill": {
     "duration": 0.038409,
     "end_time": "2021-06-22T16:27:25.095903",
     "exception": false,
     "start_time": "2021-06-22T16:27:25.057494",
     "status": "completed"
    },
    "tags": []
   },
   "source": [
    "**2.1 First glimps**"
   ]
  },
  {
   "cell_type": "code",
   "execution_count": 3,
   "id": "previous-riding",
   "metadata": {
    "execution": {
     "iopub.execute_input": "2021-06-22T16:27:25.188505Z",
     "iopub.status.busy": "2021-06-22T16:27:25.187894Z",
     "iopub.status.idle": "2021-06-22T16:27:25.196258Z",
     "shell.execute_reply": "2021-06-22T16:27:25.195724Z",
     "shell.execute_reply.started": "2021-06-22T16:17:59.130732Z"
    },
    "papermill": {
     "duration": 0.061411,
     "end_time": "2021-06-22T16:27:25.196366",
     "exception": false,
     "start_time": "2021-06-22T16:27:25.134955",
     "status": "completed"
    },
    "tags": []
   },
   "outputs": [
    {
     "data": {
      "text/html": [
       "<div>\n",
       "<style scoped>\n",
       "    .dataframe tbody tr th:only-of-type {\n",
       "        vertical-align: middle;\n",
       "    }\n",
       "\n",
       "    .dataframe tbody tr th {\n",
       "        vertical-align: top;\n",
       "    }\n",
       "\n",
       "    .dataframe thead th {\n",
       "        text-align: right;\n",
       "    }\n",
       "</style>\n",
       "<table border=\"1\" class=\"dataframe\">\n",
       "  <thead>\n",
       "    <tr style=\"text-align: right;\">\n",
       "      <th></th>\n",
       "      <th>Id</th>\n",
       "      <th>pub_title</th>\n",
       "      <th>dataset_title</th>\n",
       "      <th>dataset_label</th>\n",
       "      <th>cleaned_label</th>\n",
       "    </tr>\n",
       "  </thead>\n",
       "  <tbody>\n",
       "    <tr>\n",
       "      <th>0</th>\n",
       "      <td>d0fa7568-7d8e-4db9-870f-f9c6f668c17b</td>\n",
       "      <td>The Impact of Dual Enrollment on College Degre...</td>\n",
       "      <td>National Education Longitudinal Study</td>\n",
       "      <td>National Education Longitudinal Study</td>\n",
       "      <td>national education longitudinal study</td>\n",
       "    </tr>\n",
       "    <tr>\n",
       "      <th>1</th>\n",
       "      <td>2f26f645-3dec-485d-b68d-f013c9e05e60</td>\n",
       "      <td>Educational Attainment of High School Dropouts...</td>\n",
       "      <td>National Education Longitudinal Study</td>\n",
       "      <td>National Education Longitudinal Study</td>\n",
       "      <td>national education longitudinal study</td>\n",
       "    </tr>\n",
       "    <tr>\n",
       "      <th>2</th>\n",
       "      <td>c5d5cd2c-59de-4f29-bbb1-6a88c7b52f29</td>\n",
       "      <td>Differences in Outcomes for Female and Male St...</td>\n",
       "      <td>National Education Longitudinal Study</td>\n",
       "      <td>National Education Longitudinal Study</td>\n",
       "      <td>national education longitudinal study</td>\n",
       "    </tr>\n",
       "    <tr>\n",
       "      <th>3</th>\n",
       "      <td>5c9a3bc9-41ba-4574-ad71-e25c1442c8af</td>\n",
       "      <td>Stepping Stone and Option Value in a Model of ...</td>\n",
       "      <td>National Education Longitudinal Study</td>\n",
       "      <td>National Education Longitudinal Study</td>\n",
       "      <td>national education longitudinal study</td>\n",
       "    </tr>\n",
       "    <tr>\n",
       "      <th>4</th>\n",
       "      <td>c754dec7-c5a3-4337-9892-c02158475064</td>\n",
       "      <td>Parental Effort, School Resources, and Student...</td>\n",
       "      <td>National Education Longitudinal Study</td>\n",
       "      <td>National Education Longitudinal Study</td>\n",
       "      <td>national education longitudinal study</td>\n",
       "    </tr>\n",
       "  </tbody>\n",
       "</table>\n",
       "</div>"
      ],
      "text/plain": [
       "                                     Id  \\\n",
       "0  d0fa7568-7d8e-4db9-870f-f9c6f668c17b   \n",
       "1  2f26f645-3dec-485d-b68d-f013c9e05e60   \n",
       "2  c5d5cd2c-59de-4f29-bbb1-6a88c7b52f29   \n",
       "3  5c9a3bc9-41ba-4574-ad71-e25c1442c8af   \n",
       "4  c754dec7-c5a3-4337-9892-c02158475064   \n",
       "\n",
       "                                           pub_title  \\\n",
       "0  The Impact of Dual Enrollment on College Degre...   \n",
       "1  Educational Attainment of High School Dropouts...   \n",
       "2  Differences in Outcomes for Female and Male St...   \n",
       "3  Stepping Stone and Option Value in a Model of ...   \n",
       "4  Parental Effort, School Resources, and Student...   \n",
       "\n",
       "                           dataset_title  \\\n",
       "0  National Education Longitudinal Study   \n",
       "1  National Education Longitudinal Study   \n",
       "2  National Education Longitudinal Study   \n",
       "3  National Education Longitudinal Study   \n",
       "4  National Education Longitudinal Study   \n",
       "\n",
       "                           dataset_label  \\\n",
       "0  National Education Longitudinal Study   \n",
       "1  National Education Longitudinal Study   \n",
       "2  National Education Longitudinal Study   \n",
       "3  National Education Longitudinal Study   \n",
       "4  National Education Longitudinal Study   \n",
       "\n",
       "                           cleaned_label  \n",
       "0  national education longitudinal study  \n",
       "1  national education longitudinal study  \n",
       "2  national education longitudinal study  \n",
       "3  national education longitudinal study  \n",
       "4  national education longitudinal study  "
      ]
     },
     "execution_count": 3,
     "metadata": {},
     "output_type": "execute_result"
    }
   ],
   "source": [
    "train_df.head()"
   ]
  },
  {
   "cell_type": "code",
   "execution_count": 4,
   "id": "welsh-reflection",
   "metadata": {
    "execution": {
     "iopub.execute_input": "2021-06-22T16:27:25.281174Z",
     "iopub.status.busy": "2021-06-22T16:27:25.280399Z",
     "iopub.status.idle": "2021-06-22T16:27:25.299356Z",
     "shell.execute_reply": "2021-06-22T16:27:25.299725Z",
     "shell.execute_reply.started": "2021-06-22T16:17:59.150552Z"
    },
    "papermill": {
     "duration": 0.064494,
     "end_time": "2021-06-22T16:27:25.299850",
     "exception": false,
     "start_time": "2021-06-22T16:27:25.235356",
     "status": "completed"
    },
    "tags": []
   },
   "outputs": [
    {
     "name": "stdout",
     "output_type": "stream",
     "text": [
      "Distinct value in different columns:\n",
      "Id:14316\n",
      "pub_title:14271\n",
      "dataset_title:45\n",
      "dataset_label:130\n",
      "cleaned_label:130\n"
     ]
    },
    {
     "data": {
      "text/plain": [
       "[None, None, None, None, None]"
      ]
     },
     "execution_count": 4,
     "metadata": {},
     "output_type": "execute_result"
    }
   ],
   "source": [
    "print(\"Distinct value in different columns:\")\n",
    "[print(f\"{column}:{len(train_df[column].unique())}\") for column in train_df.columns]"
   ]
  },
  {
   "cell_type": "markdown",
   "id": "alive-henry",
   "metadata": {
    "papermill": {
     "duration": 0.04016,
     "end_time": "2021-06-22T16:27:25.381005",
     "exception": false,
     "start_time": "2021-06-22T16:27:25.340845",
     "status": "completed"
    },
    "tags": []
   },
   "source": [
    "**Hey! It seems that dataset is labelled in batch!**\n",
    "1. items are extracted from 45 datasets with 130 different label, \n",
    "2. among them, some papers are labelled with multiple labels.\n",
    "3. there are 130 labels in total"
   ]
  },
  {
   "cell_type": "code",
   "execution_count": 5,
   "id": "seven-retail",
   "metadata": {
    "execution": {
     "iopub.execute_input": "2021-06-22T16:27:25.467502Z",
     "iopub.status.busy": "2021-06-22T16:27:25.466850Z",
     "iopub.status.idle": "2021-06-22T16:27:25.470363Z",
     "shell.execute_reply": "2021-06-22T16:27:25.470989Z",
     "shell.execute_reply.started": "2021-06-22T16:17:59.187641Z"
    },
    "papermill": {
     "duration": 0.050606,
     "end_time": "2021-06-22T16:27:25.471156",
     "exception": false,
     "start_time": "2021-06-22T16:27:25.420550",
     "status": "completed"
    },
    "tags": []
   },
   "outputs": [
    {
     "name": "stdout",
     "output_type": "stream",
     "text": [
      "Total number of distinct dataset label is  130\n"
     ]
    }
   ],
   "source": [
    "s = set(train_df.cleaned_label)\n",
    "print(\"Total number of distinct dataset label is \",len(s))"
   ]
  },
  {
   "cell_type": "markdown",
   "id": "disabled-acting",
   "metadata": {
    "papermill": {
     "duration": 0.040229,
     "end_time": "2021-06-22T16:27:25.552236",
     "exception": false,
     "start_time": "2021-06-22T16:27:25.512007",
     "status": "completed"
    },
    "tags": []
   },
   "source": [
    "Hey! Let's see the distribution of different topic"
   ]
  },
  {
   "cell_type": "code",
   "execution_count": 6,
   "id": "saving-testament",
   "metadata": {
    "execution": {
     "iopub.execute_input": "2021-06-22T16:27:25.650606Z",
     "iopub.status.busy": "2021-06-22T16:27:25.649904Z",
     "iopub.status.idle": "2021-06-22T16:27:25.653507Z",
     "shell.execute_reply": "2021-06-22T16:27:25.654134Z",
     "shell.execute_reply.started": "2021-06-22T16:17:59.202315Z"
    },
    "papermill": {
     "duration": 0.056015,
     "end_time": "2021-06-22T16:27:25.654323",
     "exception": false,
     "start_time": "2021-06-22T16:27:25.598308",
     "status": "completed"
    },
    "tags": []
   },
   "outputs": [
    {
     "name": "stdout",
     "output_type": "stream",
     "text": [
      "adni                                                     3673\n",
      "alzheimer s disease neuroimaging initiative adni         2400\n",
      "trends in international mathematics and science study    1163\n",
      "baltimore longitudinal study of aging                    1156\n",
      "early childhood longitudinal study                       1011\n",
      "Name: cleaned_label, dtype: int64\n"
     ]
    }
   ],
   "source": [
    "labels_info = train_df.cleaned_label.value_counts()\n",
    "print(labels_info.head())"
   ]
  },
  {
   "cell_type": "code",
   "execution_count": 7,
   "id": "incoming-reset",
   "metadata": {
    "execution": {
     "iopub.execute_input": "2021-06-22T16:27:25.741418Z",
     "iopub.status.busy": "2021-06-22T16:27:25.740744Z",
     "iopub.status.idle": "2021-06-22T16:27:25.744470Z",
     "shell.execute_reply": "2021-06-22T16:27:25.745059Z",
     "shell.execute_reply.started": "2021-06-22T16:17:59.224876Z"
    },
    "papermill": {
     "duration": 0.049042,
     "end_time": "2021-06-22T16:27:25.745218",
     "exception": false,
     "start_time": "2021-06-22T16:27:25.696176",
     "status": "completed"
    },
    "tags": []
   },
   "outputs": [
    {
     "name": "stdout",
     "output_type": "stream",
     "text": [
      "19661\n"
     ]
    }
   ],
   "source": [
    "labelscount = labels_info.values.sum()\n",
    "print(labelscount)\n",
    "labels_percentage = pd.Series({label:val/labelscount for label,val in labels_info.items()})"
   ]
  },
  {
   "cell_type": "code",
   "execution_count": 8,
   "id": "crucial-violence",
   "metadata": {
    "execution": {
     "iopub.execute_input": "2021-06-22T16:27:25.845283Z",
     "iopub.status.busy": "2021-06-22T16:27:25.844746Z",
     "iopub.status.idle": "2021-06-22T16:27:27.004554Z",
     "shell.execute_reply": "2021-06-22T16:27:27.003746Z",
     "shell.execute_reply.started": "2021-06-22T16:17:59.248016Z"
    },
    "papermill": {
     "duration": 1.218432,
     "end_time": "2021-06-22T16:27:27.004720",
     "exception": false,
     "start_time": "2021-06-22T16:27:25.786288",
     "status": "completed"
    },
    "tags": []
   },
   "outputs": [
    {
     "data": {
      "image/png": "[encoded data removed]",
      "text/plain": [
       "<Figure size 3600x2160 with 1 Axes>"
      ]
     },
     "metadata": {
      "needs_background": "light"
     },
     "output_type": "display_data"
    }
   ],
   "source": [
    "labels_percentage.head()\n",
    "#x,y = zip(labels_percentage)\n",
    "counts = labels_percentage.values\n",
    "index = labels_percentage.index\n",
    "plt.figure(figsize=(50,30))\n",
    "plt.margins(0.02)\n",
    "plt.plot(counts)\n",
    "plt.xlabel('Documents', fontsize=50)\n",
    "plt.ylabel('Frequency of Document', fontsize=50)\n",
    "plt.yticks(fontsize=40)\n",
    "plt.xticks(rotation=60, fontsize=40)\n",
    "plt.tight_layout(pad=0)\n",
    "plt.title('document Frequency', fontsize=60)\n",
    "plt.show()"
   ]
  },
  {
   "cell_type": "markdown",
   "id": "jewish-vintage",
   "metadata": {
    "papermill": {
     "duration": 0.071413,
     "end_time": "2021-06-22T16:27:27.159433",
     "exception": false,
     "start_time": "2021-06-22T16:27:27.088020",
     "status": "completed"
    },
    "tags": []
   },
   "source": [
    "**2.2Read Data From json Files**"
   ]
  },
  {
   "cell_type": "markdown",
   "id": "international-stevens",
   "metadata": {
    "papermill": {
     "duration": 0.070609,
     "end_time": "2021-06-22T16:27:27.301248",
     "exception": false,
     "start_time": "2021-06-22T16:27:27.230639",
     "status": "completed"
    },
    "tags": []
   },
   "source": [
    "I think Abstract is more than enough to deduce the topic of a document🤣"
   ]
  },
  {
   "cell_type": "code",
   "execution_count": 9,
   "id": "toxic-pierce",
   "metadata": {
    "execution": {
     "iopub.execute_input": "2021-06-22T16:27:27.452407Z",
     "iopub.status.busy": "2021-06-22T16:27:27.451662Z",
     "iopub.status.idle": "2021-06-22T16:27:27.456706Z",
     "shell.execute_reply": "2021-06-22T16:27:27.456113Z",
     "shell.execute_reply.started": "2021-06-22T16:18:00.199615Z"
    },
    "papermill": {
     "duration": 0.084057,
     "end_time": "2021-06-22T16:27:27.456853",
     "exception": false,
     "start_time": "2021-06-22T16:27:27.372796",
     "status": "completed"
    },
    "tags": []
   },
   "outputs": [],
   "source": [
    "#input\n",
    "# doc(list)\n",
    "#    chapter(list)\n",
    "#        section_title(dict):Abstract\n",
    "#        text(text)\n",
    "def getAbstract(doc):\n",
    "    res = \"\"\n",
    "    for chapter in doc:\n",
    "        if 'Abstract' in chapter.values():\n",
    "            res +=  chapter['text']\n",
    "        if 'Introduction' in chapter.values():\n",
    "            res +=  chapter['text']\n",
    "        if 'Conclusion' in chapter.values():\n",
    "            res +=  chapter['text']\n",
    "    if res == \"\":\n",
    "        res += doc[0]['text']\n",
    "    return res"
   ]
  },
  {
   "cell_type": "markdown",
   "id": "initial-reader",
   "metadata": {
    "papermill": {
     "duration": 0.043461,
     "end_time": "2021-06-22T16:27:27.567694",
     "exception": false,
     "start_time": "2021-06-22T16:27:27.524233",
     "status": "completed"
    },
    "tags": []
   },
   "source": [
    "This is to Read Files with train.csv as a "
   ]
  },
  {
   "cell_type": "code",
   "execution_count": 10,
   "id": "headed-plasma",
   "metadata": {
    "execution": {
     "iopub.execute_input": "2021-06-22T16:27:27.666364Z",
     "iopub.status.busy": "2021-06-22T16:27:27.665571Z",
     "iopub.status.idle": "2021-06-22T16:28:24.933707Z",
     "shell.execute_reply": "2021-06-22T16:28:24.934260Z",
     "shell.execute_reply.started": "2021-06-22T16:18:00.211792Z"
    },
    "papermill": {
     "duration": 57.321632,
     "end_time": "2021-06-22T16:28:24.934421",
     "exception": false,
     "start_time": "2021-06-22T16:27:27.612789",
     "status": "completed"
    },
    "tags": []
   },
   "outputs": [
    {
     "name": "stdout",
     "output_type": "stream",
     "text": [
      "(14316, 6)\n"
     ]
    }
   ],
   "source": [
    "# This is to read all datas from file\n",
    "\"\"\" build PUB_DF by repacking data from train_df \"\"\"\n",
    "df = train_df.groupby('Id').agg({'pub_title':'first', 'dataset_label':'nunique',\n",
    "                                    'cleaned_label':lambda x: sorted(x)})\n",
    "# 以CSV为目录读取其他的文件\n",
    "df['raw_text'] = pd.Series(read_json_from_folder(os.path.join(data_path, 'train')))\n",
    "df['n_sections'] = df['raw_text'].apply(lambda x: len(x)).astype(int)\n",
    "\"\"\" Get Abstract \"\"\"\n",
    "df['abstract'] = df['raw_text'].apply(lambda x: getAbstract(x))\n",
    "print (df.shape)"
   ]
  },
  {
   "cell_type": "markdown",
   "id": "turned-greeting",
   "metadata": {
    "papermill": {
     "duration": 0.049137,
     "end_time": "2021-06-22T16:28:25.032587",
     "exception": false,
     "start_time": "2021-06-22T16:28:24.983450",
     "status": "completed"
    },
    "tags": []
   },
   "source": [
    "Let's see what df looks like~😋"
   ]
  },
  {
   "cell_type": "code",
   "execution_count": 11,
   "id": "handed-burke",
   "metadata": {
    "execution": {
     "iopub.execute_input": "2021-06-22T16:28:25.164825Z",
     "iopub.status.busy": "2021-06-22T16:28:25.163345Z",
     "iopub.status.idle": "2021-06-22T16:28:25.167781Z",
     "shell.execute_reply": "2021-06-22T16:28:25.168261Z",
     "shell.execute_reply.started": "2021-06-22T16:18:13.121459Z"
    },
    "papermill": {
     "duration": 0.090418,
     "end_time": "2021-06-22T16:28:25.168392",
     "exception": false,
     "start_time": "2021-06-22T16:28:25.077974",
     "status": "completed"
    },
    "tags": []
   },
   "outputs": [
    {
     "data": {
      "text/html": [
       "<div>\n",
       "<style scoped>\n",
       "    .dataframe tbody tr th:only-of-type {\n",
       "        vertical-align: middle;\n",
       "    }\n",
       "\n",
       "    .dataframe tbody tr th {\n",
       "        vertical-align: top;\n",
       "    }\n",
       "\n",
       "    .dataframe thead th {\n",
       "        text-align: right;\n",
       "    }\n",
       "</style>\n",
       "<table border=\"1\" class=\"dataframe\">\n",
       "  <thead>\n",
       "    <tr style=\"text-align: right;\">\n",
       "      <th></th>\n",
       "      <th>pub_title</th>\n",
       "      <th>dataset_label</th>\n",
       "      <th>cleaned_label</th>\n",
       "      <th>raw_text</th>\n",
       "      <th>n_sections</th>\n",
       "      <th>abstract</th>\n",
       "    </tr>\n",
       "    <tr>\n",
       "      <th>Id</th>\n",
       "      <th></th>\n",
       "      <th></th>\n",
       "      <th></th>\n",
       "      <th></th>\n",
       "      <th></th>\n",
       "      <th></th>\n",
       "    </tr>\n",
       "  </thead>\n",
       "  <tbody>\n",
       "    <tr>\n",
       "      <th>0007f880-0a9b-492d-9a58-76eb0b0e0bd7</th>\n",
       "      <td>The Impact of ICT Training on Income Generatio...</td>\n",
       "      <td>1</td>\n",
       "      <td>[program for the international assessment of a...</td>\n",
       "      <td>[{'section_title': 'Abstract', 'text': 'The ai...</td>\n",
       "      <td>20</td>\n",
       "      <td>The aim of this study was to identify if acqui...</td>\n",
       "    </tr>\n",
       "    <tr>\n",
       "      <th>0008656f-0ba2-4632-8602-3017b44c2e90</th>\n",
       "      <td>Finnish Ninth Graders’ Gender Appropriateness ...</td>\n",
       "      <td>1</td>\n",
       "      <td>[trends in international mathematics and scien...</td>\n",
       "      <td>[{'section_title': 'Abstract', 'text': 'In thi...</td>\n",
       "      <td>16</td>\n",
       "      <td>In this study, Finnish ninth graders' and thei...</td>\n",
       "    </tr>\n",
       "    <tr>\n",
       "      <th>000e04d6-d6ef-442f-b070-4309493221ba</th>\n",
       "      <td>Economic Research Service: Specialized Agency...</td>\n",
       "      <td>1</td>\n",
       "      <td>[agricultural resources management survey]</td>\n",
       "      <td>[{'section_title': 'Highlights', 'text': 'Thro...</td>\n",
       "      <td>29</td>\n",
       "      <td>Through the U.S. Department of Agriculture's E...</td>\n",
       "    </tr>\n",
       "    <tr>\n",
       "      <th>000efc17-13d8-433d-8f62-a3932fe4f3b8</th>\n",
       "      <td>Risk factors and global cognitive status relat...</td>\n",
       "      <td>2</td>\n",
       "      <td>[adni, alzheimer s disease neuroimaging initia...</td>\n",
       "      <td>[{'section_title': 'Abstract', 'text': 'Risk f...</td>\n",
       "      <td>11</td>\n",
       "      <td>Risk factors and cognitive sequelae of brain a...</td>\n",
       "    </tr>\n",
       "    <tr>\n",
       "      <th>0010357a-6365-4e5f-b982-582e6d32c3ee</th>\n",
       "      <td>Timelines of COVID-19 Vaccines</td>\n",
       "      <td>1</td>\n",
       "      <td>[genome sequence of covid 19]</td>\n",
       "      <td>[{'section_title': '', 'text': 'Potential Conf...</td>\n",
       "      <td>5</td>\n",
       "      <td>Potential Conflicts of Interest: The author ha...</td>\n",
       "    </tr>\n",
       "  </tbody>\n",
       "</table>\n",
       "</div>"
      ],
      "text/plain": [
       "                                                                              pub_title  \\\n",
       "Id                                                                                        \n",
       "0007f880-0a9b-492d-9a58-76eb0b0e0bd7  The Impact of ICT Training on Income Generatio...   \n",
       "0008656f-0ba2-4632-8602-3017b44c2e90  Finnish Ninth Graders’ Gender Appropriateness ...   \n",
       "000e04d6-d6ef-442f-b070-4309493221ba   Economic Research Service: Specialized Agency...   \n",
       "000efc17-13d8-433d-8f62-a3932fe4f3b8  Risk factors and global cognitive status relat...   \n",
       "0010357a-6365-4e5f-b982-582e6d32c3ee                     Timelines of COVID-19 Vaccines   \n",
       "\n",
       "                                      dataset_label  \\\n",
       "Id                                                    \n",
       "0007f880-0a9b-492d-9a58-76eb0b0e0bd7              1   \n",
       "0008656f-0ba2-4632-8602-3017b44c2e90              1   \n",
       "000e04d6-d6ef-442f-b070-4309493221ba              1   \n",
       "000efc17-13d8-433d-8f62-a3932fe4f3b8              2   \n",
       "0010357a-6365-4e5f-b982-582e6d32c3ee              1   \n",
       "\n",
       "                                                                          cleaned_label  \\\n",
       "Id                                                                                        \n",
       "0007f880-0a9b-492d-9a58-76eb0b0e0bd7  [program for the international assessment of a...   \n",
       "0008656f-0ba2-4632-8602-3017b44c2e90  [trends in international mathematics and scien...   \n",
       "000e04d6-d6ef-442f-b070-4309493221ba         [agricultural resources management survey]   \n",
       "000efc17-13d8-433d-8f62-a3932fe4f3b8  [adni, alzheimer s disease neuroimaging initia...   \n",
       "0010357a-6365-4e5f-b982-582e6d32c3ee                      [genome sequence of covid 19]   \n",
       "\n",
       "                                                                               raw_text  \\\n",
       "Id                                                                                        \n",
       "0007f880-0a9b-492d-9a58-76eb0b0e0bd7  [{'section_title': 'Abstract', 'text': 'The ai...   \n",
       "0008656f-0ba2-4632-8602-3017b44c2e90  [{'section_title': 'Abstract', 'text': 'In thi...   \n",
       "000e04d6-d6ef-442f-b070-4309493221ba  [{'section_title': 'Highlights', 'text': 'Thro...   \n",
       "000efc17-13d8-433d-8f62-a3932fe4f3b8  [{'section_title': 'Abstract', 'text': 'Risk f...   \n",
       "0010357a-6365-4e5f-b982-582e6d32c3ee  [{'section_title': '', 'text': 'Potential Conf...   \n",
       "\n",
       "                                      n_sections  \\\n",
       "Id                                                 \n",
       "0007f880-0a9b-492d-9a58-76eb0b0e0bd7          20   \n",
       "0008656f-0ba2-4632-8602-3017b44c2e90          16   \n",
       "000e04d6-d6ef-442f-b070-4309493221ba          29   \n",
       "000efc17-13d8-433d-8f62-a3932fe4f3b8          11   \n",
       "0010357a-6365-4e5f-b982-582e6d32c3ee           5   \n",
       "\n",
       "                                                                               abstract  \n",
       "Id                                                                                       \n",
       "0007f880-0a9b-492d-9a58-76eb0b0e0bd7  The aim of this study was to identify if acqui...  \n",
       "0008656f-0ba2-4632-8602-3017b44c2e90  In this study, Finnish ninth graders' and thei...  \n",
       "000e04d6-d6ef-442f-b070-4309493221ba  Through the U.S. Department of Agriculture's E...  \n",
       "000efc17-13d8-433d-8f62-a3932fe4f3b8  Risk factors and cognitive sequelae of brain a...  \n",
       "0010357a-6365-4e5f-b982-582e6d32c3ee  Potential Conflicts of Interest: The author ha...  "
      ]
     },
     "execution_count": 11,
     "metadata": {},
     "output_type": "execute_result"
    }
   ],
   "source": [
    "df.head()"
   ]
  },
  {
   "cell_type": "markdown",
   "id": "unavailable-graham",
   "metadata": {
    "papermill": {
     "duration": 0.045689,
     "end_time": "2021-06-22T16:28:25.260342",
     "exception": false,
     "start_time": "2021-06-22T16:28:25.214653",
     "status": "completed"
    },
    "tags": []
   },
   "source": [
    "## 3 Let's clean up df.abstract😏**"
   ]
  },
  {
   "cell_type": "code",
   "execution_count": 12,
   "id": "swiss-happiness",
   "metadata": {
    "execution": {
     "iopub.execute_input": "2021-06-22T16:28:25.357120Z",
     "iopub.status.busy": "2021-06-22T16:28:25.356567Z",
     "iopub.status.idle": "2021-06-22T16:28:47.002504Z",
     "shell.execute_reply": "2021-06-22T16:28:47.001973Z",
     "shell.execute_reply.started": "2021-06-22T16:18:13.185554Z"
    },
    "papermill": {
     "duration": 21.69629,
     "end_time": "2021-06-22T16:28:47.002628",
     "exception": false,
     "start_time": "2021-06-22T16:28:25.306338",
     "status": "completed"
    },
    "tags": []
   },
   "outputs": [
    {
     "name": "stdout",
     "output_type": "stream",
     "text": [
      "[nltk_data] Error loading stopwords: <urlopen error [Errno -3]\n",
      "[nltk_data]     Temporary failure in name resolution>\n"
     ]
    }
   ],
   "source": [
    "import nltk\n",
    "nltk.download('stopwords')\n",
    "from nltk.corpus import stopwords\n",
    "from nltk.stem.wordnet import WordNetLemmatizer\n",
    "from string import punctuation\n",
    "from nltk.stem.snowball import EnglishStemmer\n",
    "import re"
   ]
  },
  {
   "cell_type": "markdown",
   "id": "greater-supply",
   "metadata": {
    "papermill": {
     "duration": 0.046013,
     "end_time": "2021-06-22T16:28:47.094889",
     "exception": false,
     "start_time": "2021-06-22T16:28:47.048876",
     "status": "completed"
    },
    "tags": []
   },
   "source": [
    "We nned to make sure word are lower-case, 3 cleaning approach:\n",
    "1. word are transformed into lower case\n",
    "2. punctuation checked\n",
    "3. word normalized\n",
    "4. remove numbers"
   ]
  },
  {
   "cell_type": "code",
   "execution_count": 13,
   "id": "fiscal-orientation",
   "metadata": {
    "execution": {
     "iopub.execute_input": "2021-06-22T16:28:47.196765Z",
     "iopub.status.busy": "2021-06-22T16:28:47.196192Z",
     "iopub.status.idle": "2021-06-22T16:28:47.204707Z",
     "shell.execute_reply": "2021-06-22T16:28:47.204286Z",
     "shell.execute_reply.started": "2021-06-22T16:18:33.232733Z"
    },
    "papermill": {
     "duration": 0.064761,
     "end_time": "2021-06-22T16:28:47.204807",
     "exception": false,
     "start_time": "2021-06-22T16:28:47.140046",
     "status": "completed"
    },
    "tags": []
   },
   "outputs": [],
   "source": [
    "stop = set(stopwords.words('english'))\n",
    "exclude = set(punctuation)\n",
    "lemma = WordNetLemmatizer()\n",
    "\n",
    "def removeSymbols(text):\n",
    "    return re.sub(r'[\\n\\.\\!\\/_\\-$%^*(+\\\"\\')]+|[+—()?【】“”！:,;.？、~@#￥%…&*（）0123456789]+', ' ',\n",
    "                                        text)\n",
    "def cleanDoc(doc):\n",
    "    # \n",
    "    stop_free = \" \".join([i for i in doc.lower().split() if i not in stop])\n",
    "    punc_free = \" \".join(ch for ch in stop_free.split() if ch not in exclude)\n",
    "    normalized = \" \".join(lemma.lemmatize(word) for word in punc_free.split())\n",
    "    cleaned = \" \".join(removeSymbols(word) for word in normalized.split())\n",
    "    return cleaned\n",
    "\n",
    "def cleanDocs(docs):\n",
    "    for doc in tqdm(docs.itertuples(), total = len(docs)):\n",
    "        symbols_clear = removeSymbols(doc.abstract)\n",
    "        cleaned = cleanDoc(symbols_clear)\n",
    "        docs.loc[doc.Index,'cleaned_abstract'] = cleaned\n",
    "    #return docs"
   ]
  },
  {
   "cell_type": "markdown",
   "id": "municipal-indicator",
   "metadata": {
    "papermill": {
     "duration": 0.044482,
     "end_time": "2021-06-22T16:28:47.294364",
     "exception": false,
     "start_time": "2021-06-22T16:28:47.249882",
     "status": "completed"
    },
    "tags": []
   },
   "source": [
    "Clean up text in abstrat"
   ]
  },
  {
   "cell_type": "code",
   "execution_count": 14,
   "id": "forward-arthur",
   "metadata": {
    "execution": {
     "iopub.execute_input": "2021-06-22T16:28:47.394561Z",
     "iopub.status.busy": "2021-06-22T16:28:47.393757Z",
     "iopub.status.idle": "2021-06-22T16:30:33.294710Z",
     "shell.execute_reply": "2021-06-22T16:30:33.294188Z",
     "shell.execute_reply.started": "2021-06-22T16:18:33.246288Z"
    },
    "papermill": {
     "duration": 105.955387,
     "end_time": "2021-06-22T16:30:33.294840",
     "exception": false,
     "start_time": "2021-06-22T16:28:47.339453",
     "status": "completed"
    },
    "tags": []
   },
   "outputs": [
    {
     "name": "stderr",
     "output_type": "stream",
     "text": [
      "100%|██████████| 14316/14316 [01:45<00:00, 135.19it/s]"
     ]
    },
    {
     "name": "stdout",
     "output_type": "stream",
     "text": [
      "CPU times: user 1min 45s, sys: 1.71 s, total: 1min 46s\n",
      "Wall time: 1min 45s\n"
     ]
    },
    {
     "name": "stderr",
     "output_type": "stream",
     "text": [
      "\n"
     ]
    }
   ],
   "source": [
    "%time cleanDocs(df)"
   ]
  },
  {
   "cell_type": "code",
   "execution_count": 15,
   "id": "biological-thursday",
   "metadata": {
    "execution": {
     "iopub.execute_input": "2021-06-22T16:30:33.676537Z",
     "iopub.status.busy": "2021-06-22T16:30:33.675722Z",
     "iopub.status.idle": "2021-06-22T16:30:33.679844Z",
     "shell.execute_reply": "2021-06-22T16:30:33.680398Z",
     "shell.execute_reply.started": "2021-06-22T16:20:38.439170Z"
    },
    "papermill": {
     "duration": 0.198133,
     "end_time": "2021-06-22T16:30:33.680573",
     "exception": false,
     "start_time": "2021-06-22T16:30:33.482440",
     "status": "completed"
    },
    "tags": []
   },
   "outputs": [
    {
     "name": "stdout",
     "output_type": "stream",
     "text": [
      "#1 This is cleaned abstract:\n",
      " study finnish ninth grader school guidance counselor view concerning ninth grader perception gender appropriateness occupation examined special interest placed evaluating ninth grader bring gender stereotypical perception regarding science technology engineering mathematics stem occupation data gathered aid online survey pupil semi structured interview school guidance counselor ninth grader referred mostly masculine physical dimension justifying certain occupation suitable men woman respectively referred mostly gender typical interest justifying certain occupation suitable woman men boy presented gender stereotypical perception occupation girl boy also considered gender affecting occupational preference stronger girl guidance counselor reported ninth grader perception occupation still gender stereotypic influencing academic occupational choice address occupational gender segregation necessary develop novel method material recognizing gender stereotype demonstrating date stem career knowledge\n",
      "#2 This is original abstract:\n",
      " In this study, Finnish ninth graders' and their school guidance counselors' views concerning ninth graders' perceptions of gender-appropriateness of occupations were examined. Special interest was placed on evaluating if ninth graders bring out any gender stereotypical perceptions regarding science, technology, engineering or mathematics (STEM) occupations. The data were gathered with the aid of an online survey (246 pupils) and semi-structured interviews (7 school guidance counselors). Ninth graders referred mostly to masculine physical dimension when justifying certain occupations being more suitable for men than for women. Respectively, they referred mostly to gender-typical interest when justifying certain occupations to be more suitable for women than for men. Boys presented more gender stereotypical perceptions of occupations than girls did. Boys also considered their own gender affecting their occupational preferences stronger than girls did. Guidance counselors reported ninth graders' perceptions of occupations being still very gender-stereotypic and influencing on academic and occupational choices. To address occupational gender segregation, it is necessary to develop novel methods and materials recognizing gender stereotypes and demonstrating up-to-date STEM career knowledge.\n"
     ]
    }
   ],
   "source": [
    "demo = \"In this study, Finnish ninth graders' and their school guidance counselors' views concerning ninth graders' perceptions of gender-appropriateness of occupations were examined. Special interest was placed on evaluating if ninth graders bring out any gender stereotypical perceptions regarding science, technology, engineering or mathematics (STEM) occupations. The data were gathered with the aid of an online survey (246 pupils) and semi-structured interviews (7 school guidance counselors). Ninth graders referred mostly to masculine physical dimension when justifying certain occupations being more suitable for men than for women. Respectively, they referred mostly to gender-typical interest when justifying certain occupations to be more suitable for women than for men. Boys presented more gender stereotypical perceptions of occupations than girls did. Boys also considered their own gender affecting their occupational preferences stronger than girls did. Guidance counselors reported ninth graders' perceptions of occupations being still very gender-stereotypic and influencing on academic and occupational choices. To address occupational gender segregation, it is necessary to develop novel methods and materials recognizing gender stereotypes and demonstrating up-to-date STEM career knowledge.\"\n",
    "cleanDoc(demo)\n",
    "print(\"#1 This is cleaned abstract:\\n\",df.cleaned_abstract[1])\n",
    "print(\"#2 This is original abstract:\\n\",df.abstract[1])"
   ]
  },
  {
   "cell_type": "markdown",
   "id": "artistic-drain",
   "metadata": {
    "papermill": {
     "duration": 0.187639,
     "end_time": "2021-06-22T16:30:34.055437",
     "exception": false,
     "start_time": "2021-06-22T16:30:33.867798",
     "status": "completed"
    },
    "tags": []
   },
   "source": [
    "Well, this takes a while~"
   ]
  },
  {
   "cell_type": "markdown",
   "id": "committed-upset",
   "metadata": {
    "papermill": {
     "duration": 0.191503,
     "end_time": "2021-06-22T16:30:34.437192",
     "exception": false,
     "start_time": "2021-06-22T16:30:34.245689",
     "status": "completed"
    },
    "tags": []
   },
   "source": [
    "**2.2.2 And then we need to look into cleaned label**☺️"
   ]
  },
  {
   "cell_type": "code",
   "execution_count": 16,
   "id": "bored-adelaide",
   "metadata": {
    "execution": {
     "iopub.execute_input": "2021-06-22T16:30:34.821739Z",
     "iopub.status.busy": "2021-06-22T16:30:34.821032Z",
     "iopub.status.idle": "2021-06-22T16:30:34.824614Z",
     "shell.execute_reply": "2021-06-22T16:30:34.824221Z",
     "shell.execute_reply.started": "2021-06-22T16:20:38.454492Z"
    },
    "papermill": {
     "duration": 0.19727,
     "end_time": "2021-06-22T16:30:34.824725",
     "exception": false,
     "start_time": "2021-06-22T16:30:34.627455",
     "status": "completed"
    },
    "tags": []
   },
   "outputs": [
    {
     "data": {
      "text/plain": [
       "Id\n",
       "0007f880-0a9b-492d-9a58-76eb0b0e0bd7    [program for the international assessment of a...\n",
       "0008656f-0ba2-4632-8602-3017b44c2e90    [trends in international mathematics and scien...\n",
       "000e04d6-d6ef-442f-b070-4309493221ba           [agricultural resources management survey]\n",
       "000efc17-13d8-433d-8f62-a3932fe4f3b8    [adni, alzheimer s disease neuroimaging initia...\n",
       "0010357a-6365-4e5f-b982-582e6d32c3ee                        [genome sequence of covid 19]\n",
       "Name: cleaned_label, dtype: object"
      ]
     },
     "execution_count": 16,
     "metadata": {},
     "output_type": "execute_result"
    }
   ],
   "source": [
    "# Actually, label is not always clean, it contains many punctuations\n",
    "df.cleaned_label.head()"
   ]
  },
  {
   "cell_type": "code",
   "execution_count": 17,
   "id": "presidential-webmaster",
   "metadata": {
    "execution": {
     "iopub.execute_input": "2021-06-22T16:30:35.239674Z",
     "iopub.status.busy": "2021-06-22T16:30:35.234574Z",
     "iopub.status.idle": "2021-06-22T16:30:35.252729Z",
     "shell.execute_reply": "2021-06-22T16:30:35.252155Z",
     "shell.execute_reply.started": "2021-06-22T16:20:38.474606Z"
    },
    "papermill": {
     "duration": 0.239004,
     "end_time": "2021-06-22T16:30:35.252881",
     "exception": false,
     "start_time": "2021-06-22T16:30:35.013877",
     "status": "completed"
    },
    "tags": []
   },
   "outputs": [
    {
     "name": "stdout",
     "output_type": "stream",
     "text": [
      "CPU times: user 38.2 ms, sys: 2.01 ms, total: 40.2 ms\n",
      "Wall time: 39.7 ms\n"
     ]
    }
   ],
   "source": [
    "def remove_stop(doc):\n",
    "    labels = []\n",
    "    for label in doc:\n",
    "        new_seq = \" \".join(word for word in label.split() if word not in stop)\n",
    "        labels.append(new_seq)\n",
    "    return labels\n",
    "%time df['cleaned_nostop_label'] = df['cleaned_label'].apply(lambda x: remove_stop(x))"
   ]
  },
  {
   "cell_type": "code",
   "execution_count": 18,
   "id": "restricted-retro",
   "metadata": {
    "execution": {
     "iopub.execute_input": "2021-06-22T16:30:35.795717Z",
     "iopub.status.busy": "2021-06-22T16:30:35.794935Z",
     "iopub.status.idle": "2021-06-22T16:30:35.803827Z",
     "shell.execute_reply": "2021-06-22T16:30:35.804601Z",
     "shell.execute_reply.started": "2021-06-22T16:20:38.537233Z"
    },
    "papermill": {
     "duration": 0.324489,
     "end_time": "2021-06-22T16:30:35.804785",
     "exception": false,
     "start_time": "2021-06-22T16:30:35.480296",
     "status": "completed"
    },
    "tags": []
   },
   "outputs": [
    {
     "name": "stdout",
     "output_type": "stream",
     "text": [
      "Id\n",
      "0007f880-0a9b-492d-9a58-76eb0b0e0bd7    [program for the international assessment of a...\n",
      "0008656f-0ba2-4632-8602-3017b44c2e90    [trends in international mathematics and scien...\n",
      "000e04d6-d6ef-442f-b070-4309493221ba           [agricultural resources management survey]\n",
      "000efc17-13d8-433d-8f62-a3932fe4f3b8    [adni, alzheimer s disease neuroimaging initia...\n",
      "0010357a-6365-4e5f-b982-582e6d32c3ee                        [genome sequence of covid 19]\n",
      "Name: cleaned_label, dtype: object\n",
      "Id\n",
      "0007f880-0a9b-492d-9a58-76eb0b0e0bd7    [program international assessment adult compet...\n",
      "0008656f-0ba2-4632-8602-3017b44c2e90     [trends international mathematics science study]\n",
      "000e04d6-d6ef-442f-b070-4309493221ba           [agricultural resources management survey]\n",
      "000efc17-13d8-433d-8f62-a3932fe4f3b8    [adni, alzheimer disease neuroimaging initiati...\n",
      "0010357a-6365-4e5f-b982-582e6d32c3ee                           [genome sequence covid 19]\n",
      "Name: cleaned_nostop_label, dtype: object\n"
     ]
    }
   ],
   "source": [
    "print(df.cleaned_label.head())\n",
    "print(df.cleaned_nostop_label.head())"
   ]
  },
  {
   "cell_type": "markdown",
   "id": "temporal-midnight",
   "metadata": {
    "papermill": {
     "duration": 0.191058,
     "end_time": "2021-06-22T16:30:36.236379",
     "exception": false,
     "start_time": "2021-06-22T16:30:36.045321",
     "status": "completed"
    },
    "tags": []
   },
   "source": [
    "# 4Vectorize abstract and labels\n",
    "1. text is vectorized with TF-IDF \n",
    "2. labels are vectorized with BOW model\n",
    "3. TODO: text representation with doc2vec"
   ]
  },
  {
   "cell_type": "code",
   "execution_count": 19,
   "id": "generous-flight",
   "metadata": {
    "execution": {
     "iopub.execute_input": "2021-06-22T16:30:36.624431Z",
     "iopub.status.busy": "2021-06-22T16:30:36.623689Z",
     "iopub.status.idle": "2021-06-22T16:30:36.626602Z",
     "shell.execute_reply": "2021-06-22T16:30:36.626193Z",
     "shell.execute_reply.started": "2021-06-22T16:20:38.553636Z"
    },
    "papermill": {
     "duration": 0.195132,
     "end_time": "2021-06-22T16:30:36.626713",
     "exception": false,
     "start_time": "2021-06-22T16:30:36.431581",
     "status": "completed"
    },
    "tags": []
   },
   "outputs": [],
   "source": [
    "from sklearn.feature_extraction.text import TfidfVectorizer, CountVectorizer"
   ]
  },
  {
   "cell_type": "markdown",
   "id": "decent-female",
   "metadata": {
    "papermill": {
     "duration": 0.223925,
     "end_time": "2021-06-22T16:30:37.039462",
     "exception": false,
     "start_time": "2021-06-22T16:30:36.815537",
     "status": "completed"
    },
    "tags": []
   },
   "source": [
    "Format input data"
   ]
  },
  {
   "cell_type": "code",
   "execution_count": 20,
   "id": "current-worship",
   "metadata": {
    "execution": {
     "iopub.execute_input": "2021-06-22T16:30:37.424567Z",
     "iopub.status.busy": "2021-06-22T16:30:37.423773Z",
     "iopub.status.idle": "2021-06-22T16:30:37.427022Z",
     "shell.execute_reply": "2021-06-22T16:30:37.427454Z",
     "shell.execute_reply.started": "2021-06-22T16:20:38.563183Z"
    },
    "papermill": {
     "duration": 0.198334,
     "end_time": "2021-06-22T16:30:37.427581",
     "exception": false,
     "start_time": "2021-06-22T16:30:37.229247",
     "status": "completed"
    },
    "tags": []
   },
   "outputs": [
    {
     "data": {
      "text/plain": [
       "Id\n",
       "0007f880-0a9b-492d-9a58-76eb0b0e0bd7    [program for the international assessment of a...\n",
       "0008656f-0ba2-4632-8602-3017b44c2e90    [trends in international mathematics and scien...\n",
       "000e04d6-d6ef-442f-b070-4309493221ba           [agricultural resources management survey]\n",
       "000efc17-13d8-433d-8f62-a3932fe4f3b8    [adni, alzheimer s disease neuroimaging initia...\n",
       "0010357a-6365-4e5f-b982-582e6d32c3ee                        [genome sequence of covid 19]\n",
       "Name: cleaned_label, dtype: object"
      ]
     },
     "execution_count": 20,
     "metadata": {},
     "output_type": "execute_result"
    }
   ],
   "source": [
    "df.cleaned_abstract.head()\n",
    "df.cleaned_label.head()"
   ]
  },
  {
   "cell_type": "code",
   "execution_count": 21,
   "id": "painted-demand",
   "metadata": {
    "execution": {
     "iopub.execute_input": "2021-06-22T16:30:37.812658Z",
     "iopub.status.busy": "2021-06-22T16:30:37.811939Z",
     "iopub.status.idle": "2021-06-22T16:30:37.915814Z",
     "shell.execute_reply": "2021-06-22T16:30:37.915384Z",
     "shell.execute_reply.started": "2021-06-22T16:20:38.581863Z"
    },
    "papermill": {
     "duration": 0.299678,
     "end_time": "2021-06-22T16:30:37.915939",
     "exception": false,
     "start_time": "2021-06-22T16:30:37.616261",
     "status": "completed"
    },
    "tags": []
   },
   "outputs": [
    {
     "name": "stderr",
     "output_type": "stream",
     "text": [
      "100%|██████████| 14316/14316 [00:00<00:00, 327533.08it/s]\n",
      "100%|██████████| 14316/14316 [00:00<00:00, 277748.69it/s]\n"
     ]
    }
   ],
   "source": [
    "def textToList(docs):\n",
    "    abs_list = []\n",
    "    for doc in tqdm(docs.itertuples(), total = len(docs)):\n",
    "        abs_list.append(doc.cleaned_abstract)\n",
    "    return abs_list\n",
    "train_data = textToList(df)\n",
    "def labelToList(docs):\n",
    "    abs_list = []\n",
    "    for doc in tqdm(docs.itertuples(), total = len(docs)):\n",
    "        labels = []\n",
    "        for label in doc.cleaned_label:\n",
    "            labels.append(label)\n",
    "        abs_list.append(' '.join(labels))\n",
    "    return abs_list\n",
    "train_label_ = labelToList(df)"
   ]
  },
  {
   "cell_type": "code",
   "execution_count": 22,
   "id": "ultimate-medicine",
   "metadata": {
    "execution": {
     "iopub.execute_input": "2021-06-22T16:30:38.302815Z",
     "iopub.status.busy": "2021-06-22T16:30:38.302116Z",
     "iopub.status.idle": "2021-06-22T16:30:38.304875Z",
     "shell.execute_reply": "2021-06-22T16:30:38.304486Z",
     "shell.execute_reply.started": "2021-06-22T16:20:38.721255Z"
    },
    "papermill": {
     "duration": 0.196321,
     "end_time": "2021-06-22T16:30:38.305001",
     "exception": false,
     "start_time": "2021-06-22T16:30:38.108680",
     "status": "completed"
    },
    "tags": []
   },
   "outputs": [],
   "source": [
    "data_vectorizer = TfidfVectorizer(max_features=1000, input='content',# analyzer=stemmed_words,\n",
    "                             stop_words='english'\n",
    "                             , encoding='utf-8', decode_error='ignore',\n",
    "                            lowercase=True, ngram_range=(1, 3))"
   ]
  },
  {
   "cell_type": "code",
   "execution_count": 23,
   "id": "neutral-novelty",
   "metadata": {
    "execution": {
     "iopub.execute_input": "2021-06-22T16:30:38.726178Z",
     "iopub.status.busy": "2021-06-22T16:30:38.721119Z",
     "iopub.status.idle": "2021-06-22T16:30:38.929655Z",
     "shell.execute_reply": "2021-06-22T16:30:38.930098Z",
     "shell.execute_reply.started": "2021-06-22T16:20:38.731323Z"
    },
    "papermill": {
     "duration": 0.434347,
     "end_time": "2021-06-22T16:30:38.930252",
     "exception": false,
     "start_time": "2021-06-22T16:30:38.495905",
     "status": "completed"
    },
    "tags": []
   },
   "outputs": [
    {
     "data": {
      "text/plain": [
       "TfidfVectorizer(decode_error='ignore', max_features=1000, ngram_range=(1, 3),\n",
       "                stop_words='english')"
      ]
     },
     "execution_count": 23,
     "metadata": {},
     "output_type": "execute_result"
    }
   ],
   "source": [
    "data_vectorizer.fit(train_label_)"
   ]
  },
  {
   "cell_type": "code",
   "execution_count": 24,
   "id": "liberal-cowboy",
   "metadata": {
    "execution": {
     "iopub.execute_input": "2021-06-22T16:30:39.317380Z",
     "iopub.status.busy": "2021-06-22T16:30:39.316635Z",
     "iopub.status.idle": "2021-06-22T16:30:39.319004Z",
     "shell.execute_reply": "2021-06-22T16:30:39.319512Z",
     "shell.execute_reply.started": "2021-06-22T16:20:39.017576Z"
    },
    "papermill": {
     "duration": 0.198327,
     "end_time": "2021-06-22T16:30:39.319644",
     "exception": false,
     "start_time": "2021-06-22T16:30:39.121317",
     "status": "completed"
    },
    "tags": []
   },
   "outputs": [],
   "source": [
    "# vocabulary is word:index\n",
    "vocabulary = data_vectorizer.vocabulary_\n",
    "#dictionary is index:word\n",
    "dictionary = dict(zip(vocabulary.values(), vocabulary.keys()))"
   ]
  },
  {
   "cell_type": "code",
   "execution_count": 25,
   "id": "biological-refund",
   "metadata": {
    "execution": {
     "iopub.execute_input": "2021-06-22T16:30:39.727331Z",
     "iopub.status.busy": "2021-06-22T16:30:39.717154Z",
     "iopub.status.idle": "2021-06-22T16:31:02.349083Z",
     "shell.execute_reply": "2021-06-22T16:31:02.348086Z",
     "shell.execute_reply.started": "2021-06-22T16:20:39.028805Z"
    },
    "papermill": {
     "duration": 22.839676,
     "end_time": "2021-06-22T16:31:02.349230",
     "exception": false,
     "start_time": "2021-06-22T16:30:39.509554",
     "status": "completed"
    },
    "tags": []
   },
   "outputs": [],
   "source": [
    "train_data_matrix = data_vectorizer.transform(train_data)"
   ]
  },
  {
   "cell_type": "code",
   "execution_count": 26,
   "id": "naval-toddler",
   "metadata": {
    "execution": {
     "iopub.execute_input": "2021-06-22T16:31:02.738855Z",
     "iopub.status.busy": "2021-06-22T16:31:02.737656Z",
     "iopub.status.idle": "2021-06-22T16:31:02.741488Z",
     "shell.execute_reply": "2021-06-22T16:31:02.741074Z",
     "shell.execute_reply.started": "2021-06-22T16:21:05.321367Z"
    },
    "papermill": {
     "duration": 0.199359,
     "end_time": "2021-06-22T16:31:02.741594",
     "exception": false,
     "start_time": "2021-06-22T16:31:02.542235",
     "status": "completed"
    },
    "tags": []
   },
   "outputs": [
    {
     "data": {
      "text/plain": [
       "(14316, 1000)"
      ]
     },
     "execution_count": 26,
     "metadata": {},
     "output_type": "execute_result"
    }
   ],
   "source": [
    "train_data_matrix.shape"
   ]
  },
  {
   "cell_type": "markdown",
   "id": "continent-authority",
   "metadata": {
    "papermill": {
     "duration": 0.201465,
     "end_time": "2021-06-22T16:31:03.140830",
     "exception": false,
     "start_time": "2021-06-22T16:31:02.939365",
     "status": "completed"
    },
    "tags": []
   },
   "source": [
    "# Onehot encode"
   ]
  },
  {
   "cell_type": "code",
   "execution_count": 27,
   "id": "affecting-daniel",
   "metadata": {
    "execution": {
     "iopub.execute_input": "2021-06-22T16:31:03.533723Z",
     "iopub.status.busy": "2021-06-22T16:31:03.532968Z",
     "iopub.status.idle": "2021-06-22T16:31:03.587856Z",
     "shell.execute_reply": "2021-06-22T16:31:03.587438Z",
     "shell.execute_reply.started": "2021-06-22T16:21:05.333073Z"
    },
    "papermill": {
     "duration": 0.254139,
     "end_time": "2021-06-22T16:31:03.587980",
     "exception": false,
     "start_time": "2021-06-22T16:31:03.333841",
     "status": "completed"
    },
    "tags": []
   },
   "outputs": [
    {
     "name": "stderr",
     "output_type": "stream",
     "text": [
      "100%|██████████| 14316/14316 [00:00<00:00, 293363.57it/s]\n"
     ]
    }
   ],
   "source": [
    "def labelToLabelList(docs):\n",
    "    abs_list = []\n",
    "    for doc in tqdm(docs.itertuples(), total = len(docs)):\n",
    "        labels = []\n",
    "        for label in doc.cleaned_label:\n",
    "            labels.append(label)\n",
    "        abs_list.append(labels)\n",
    "    return abs_list\n",
    "train_label = labelToLabelList(df)"
   ]
  },
  {
   "cell_type": "code",
   "execution_count": 28,
   "id": "complicated-chocolate",
   "metadata": {
    "execution": {
     "iopub.execute_input": "2021-06-22T16:31:03.979414Z",
     "iopub.status.busy": "2021-06-22T16:31:03.978580Z",
     "iopub.status.idle": "2021-06-22T16:31:03.982526Z",
     "shell.execute_reply": "2021-06-22T16:31:03.982013Z",
     "shell.execute_reply.started": "2021-06-22T16:21:05.413995Z"
    },
    "papermill": {
     "duration": 0.201988,
     "end_time": "2021-06-22T16:31:03.982633",
     "exception": false,
     "start_time": "2021-06-22T16:31:03.780645",
     "status": "completed"
    },
    "tags": []
   },
   "outputs": [],
   "source": [
    "label_set = set(train_df.cleaned_label.unique())\n",
    "# 0-129\n",
    "# label: index\n",
    "label_vocabulary = dict([(label,index)for index,label in enumerate(label_set)])\n",
    "# index:label\n",
    "label_dictionary= dict(zip(label_vocabulary.values(), label_vocabulary.keys()))"
   ]
  },
  {
   "cell_type": "code",
   "execution_count": 29,
   "id": "speaking-designation",
   "metadata": {
    "execution": {
     "iopub.execute_input": "2021-06-22T16:31:04.375659Z",
     "iopub.status.busy": "2021-06-22T16:31:04.374700Z",
     "iopub.status.idle": "2021-06-22T16:31:04.392260Z",
     "shell.execute_reply": "2021-06-22T16:31:04.391717Z",
     "shell.execute_reply.started": "2021-06-22T16:21:05.427285Z"
    },
    "papermill": {
     "duration": 0.215299,
     "end_time": "2021-06-22T16:31:04.392371",
     "exception": false,
     "start_time": "2021-06-22T16:31:04.177072",
     "status": "completed"
    },
    "tags": []
   },
   "outputs": [],
   "source": [
    "def dense_to_one_hot():\n",
    "    \"\"\"Convert class labels from scalars to one-hot vectors.\"\"\"\n",
    "    labels_one_hot = np.zeros((len(train_label), len(label_set)))\n",
    "    for i, labels in enumerate(train_label):\n",
    "        for label in labels:\n",
    "            labels_one_hot[i][label_vocabulary[label]] = 1\n",
    "    return labels_one_hot\n",
    "train_label1 = dense_to_one_hot()"
   ]
  },
  {
   "cell_type": "code",
   "execution_count": 30,
   "id": "expensive-venice",
   "metadata": {
    "execution": {
     "iopub.execute_input": "2021-06-22T16:31:04.782568Z",
     "iopub.status.busy": "2021-06-22T16:31:04.781777Z",
     "iopub.status.idle": "2021-06-22T16:31:04.898143Z",
     "shell.execute_reply": "2021-06-22T16:31:04.897646Z",
     "shell.execute_reply.started": "2021-06-22T16:21:05.460293Z"
    },
    "papermill": {
     "duration": 0.312996,
     "end_time": "2021-06-22T16:31:04.898271",
     "exception": false,
     "start_time": "2021-06-22T16:31:04.585275",
     "status": "completed"
    },
    "tags": []
   },
   "outputs": [],
   "source": [
    "label_array = train_label1\n",
    "data_array = train_data_matrix.toarray()"
   ]
  },
  {
   "cell_type": "markdown",
   "id": "acknowledged-battery",
   "metadata": {
    "papermill": {
     "duration": 0.196385,
     "end_time": "2021-06-22T16:31:05.287710",
     "exception": false,
     "start_time": "2021-06-22T16:31:05.091325",
     "status": "completed"
    },
    "tags": []
   },
   "source": [
    "不用这个了！！"
   ]
  },
  {
   "cell_type": "markdown",
   "id": "retired-accused",
   "metadata": {
    "papermill": {
     "duration": 0.191021,
     "end_time": "2021-06-22T16:31:05.671063",
     "exception": false,
     "start_time": "2021-06-22T16:31:05.480042",
     "status": "completed"
    },
    "tags": []
   },
   "source": [
    "# 5 XGB model training"
   ]
  },
  {
   "cell_type": "code",
   "execution_count": 31,
   "id": "silver-video",
   "metadata": {
    "execution": {
     "iopub.execute_input": "2021-06-22T16:31:06.058716Z",
     "iopub.status.busy": "2021-06-22T16:31:06.058025Z",
     "iopub.status.idle": "2021-06-22T16:31:06.061908Z",
     "shell.execute_reply": "2021-06-22T16:31:06.062442Z",
     "shell.execute_reply.started": "2021-06-22T16:21:05.604327Z"
    },
    "papermill": {
     "duration": 0.200605,
     "end_time": "2021-06-22T16:31:06.062616",
     "exception": false,
     "start_time": "2021-06-22T16:31:05.862011",
     "status": "completed"
    },
    "tags": []
   },
   "outputs": [
    {
     "name": "stdout",
     "output_type": "stream",
     "text": [
      "(14316, 130)\n",
      "(14316, 1000)\n"
     ]
    }
   ],
   "source": [
    "print(label_array.shape)\n",
    "print(data_array.shape)"
   ]
  },
  {
   "cell_type": "code",
   "execution_count": 32,
   "id": "incorporate-alberta",
   "metadata": {
    "execution": {
     "iopub.execute_input": "2021-06-22T16:31:06.465158Z",
     "iopub.status.busy": "2021-06-22T16:31:06.464550Z",
     "iopub.status.idle": "2021-06-22T16:31:10.198690Z",
     "shell.execute_reply": "2021-06-22T16:31:10.197679Z",
     "shell.execute_reply.started": "2021-06-22T16:24:14.051509Z"
    },
    "papermill": {
     "duration": 3.940208,
     "end_time": "2021-06-22T16:31:10.198827",
     "exception": false,
     "start_time": "2021-06-22T16:31:06.258619",
     "status": "completed"
    },
    "tags": []
   },
   "outputs": [],
   "source": [
    "import numpy as np\n",
    "from sklearn.model_selection import train_test_split\n",
    "from xgboost import XGBClassifier\n",
    "from sklearn.metrics import mean_squared_error\n",
    "from sklearn.multioutput import MultiOutputClassifier\n",
    "from sklearn.metrics import accuracy_score, explained_variance_score, hamming_loss"
   ]
  },
  {
   "cell_type": "code",
   "execution_count": 33,
   "id": "incoming-federation",
   "metadata": {
    "execution": {
     "iopub.execute_input": "2021-06-22T16:31:10.588443Z",
     "iopub.status.busy": "2021-06-22T16:31:10.587427Z",
     "iopub.status.idle": "2021-06-22T16:31:10.633787Z",
     "shell.execute_reply": "2021-06-22T16:31:10.633332Z",
     "shell.execute_reply.started": "2021-06-22T16:24:17.766444Z"
    },
    "papermill": {
     "duration": 0.243178,
     "end_time": "2021-06-22T16:31:10.633911",
     "exception": false,
     "start_time": "2021-06-22T16:31:10.390733",
     "status": "completed"
    },
    "tags": []
   },
   "outputs": [],
   "source": [
    "\n",
    "X_train, X_test, y_train, y_test = train_test_split(data_array, label_array, test_size=0.1, random_state=0)"
   ]
  },
  {
   "cell_type": "code",
   "execution_count": 34,
   "id": "noted-murray",
   "metadata": {
    "execution": {
     "iopub.execute_input": "2021-06-22T16:31:11.022349Z",
     "iopub.status.busy": "2021-06-22T16:31:11.021386Z",
     "iopub.status.idle": "2021-06-22T16:32:50.601464Z",
     "shell.execute_reply": "2021-06-22T16:32:50.601009Z",
     "shell.execute_reply.started": "2021-06-22T16:24:20.015191Z"
    },
    "papermill": {
     "duration": 99.776394,
     "end_time": "2021-06-22T16:32:50.601590",
     "exception": false,
     "start_time": "2021-06-22T16:31:10.825196",
     "status": "completed"
    },
    "tags": []
   },
   "outputs": [
    {
     "name": "stderr",
     "output_type": "stream",
     "text": [
      "/opt/conda/lib/python3.7/site-packages/xgboost/sklearn.py:888: UserWarning: The use of label encoder in XGBClassifier is deprecated and will be removed in a future release. To remove this warning, do the following: 1) Pass option use_label_encoder=False when constructing XGBClassifier object; and 2) Encode your labels (y) as integers starting with 0, i.e. 0, 1, 2, ..., [num_class - 1].\n",
      "  warnings.warn(label_encoder_deprecation_msg, UserWarning)\n"
     ]
    },
    {
     "name": "stdout",
     "output_type": "stream",
     "text": [
      "CPU times: user 1min 40s, sys: 9.36 s, total: 1min 49s\n",
      "Wall time: 1min 37s\n",
      "Accuracy on test data: 42.7%\n"
     ]
    }
   ],
   "source": [
    "# create XGBoost instance with default hyper-parameters\n",
    "xgb_estimator = XGBClassifier(tree_method='gpu_hist',objective='binary:logistic', eval_metric = 'logloss')\n",
    "\n",
    "# create MultiOutputClassifier instance with XGBoost model inside\n",
    "multilabel_model = MultiOutputClassifier(xgb_estimator)\n",
    "\n",
    "# fit the model\n",
    "%time multilabel_model.fit(X_train, y_train)\n",
    "\n",
    "# evaluate on test data\n",
    "print('Accuracy on test data: {:.1f}%'.format(accuracy_score(y_test, multilabel_model.predict(X_test))*100))"
   ]
  },
  {
   "cell_type": "code",
   "execution_count": 35,
   "id": "average-theater",
   "metadata": {
    "execution": {
     "iopub.execute_input": "2021-06-22T16:32:50.992817Z",
     "iopub.status.busy": "2021-06-22T16:32:50.992030Z",
     "iopub.status.idle": "2021-06-22T16:32:53.058067Z",
     "shell.execute_reply": "2021-06-22T16:32:53.057536Z",
     "shell.execute_reply.started": "2021-06-22T16:26:12.940238Z"
    },
    "papermill": {
     "duration": 2.264908,
     "end_time": "2021-06-22T16:32:53.058234",
     "exception": false,
     "start_time": "2021-06-22T16:32:50.793326",
     "status": "completed"
    },
    "tags": []
   },
   "outputs": [
    {
     "name": "stdout",
     "output_type": "stream",
     "text": [
      "Accuracy on test data: 42.7%\n"
     ]
    }
   ],
   "source": [
    "print('Accuracy on test data: {:.1f}%'.format(accuracy_score(y_test, multilabel_model.predict(X_test))*100))"
   ]
  },
  {
   "cell_type": "markdown",
   "id": "global-offset",
   "metadata": {
    "papermill": {
     "duration": 0.192921,
     "end_time": "2021-06-22T16:32:53.444829",
     "exception": false,
     "start_time": "2021-06-22T16:32:53.251908",
     "status": "completed"
    },
    "tags": []
   },
   "source": [
    "## Addition Literal matching"
   ]
  },
  {
   "cell_type": "code",
   "execution_count": 36,
   "id": "spectacular-spank",
   "metadata": {
    "execution": {
     "iopub.execute_input": "2021-06-22T16:32:53.839066Z",
     "iopub.status.busy": "2021-06-22T16:32:53.838464Z",
     "iopub.status.idle": "2021-06-22T16:32:53.842418Z",
     "shell.execute_reply": "2021-06-22T16:32:53.841994Z",
     "shell.execute_reply.started": "2021-06-22T16:23:00.528768Z"
    },
    "papermill": {
     "duration": 0.205469,
     "end_time": "2021-06-22T16:32:53.842524",
     "exception": false,
     "start_time": "2021-06-22T16:32:53.637055",
     "status": "completed"
    },
    "tags": []
   },
   "outputs": [],
   "source": [
    "sample_sub = pd.read_csv(os.path.join(data_path,'sample_submission.csv'))\n"
   ]
  },
  {
   "cell_type": "code",
   "execution_count": 37,
   "id": "stuffed-roberts",
   "metadata": {
    "execution": {
     "iopub.execute_input": "2021-06-22T16:32:54.255618Z",
     "iopub.status.busy": "2021-06-22T16:32:54.245192Z",
     "iopub.status.idle": "2021-06-22T16:32:54.283301Z",
     "shell.execute_reply": "2021-06-22T16:32:54.282690Z",
     "shell.execute_reply.started": "2021-06-22T16:23:00.544162Z"
    },
    "papermill": {
     "duration": 0.247588,
     "end_time": "2021-06-22T16:32:54.283449",
     "exception": false,
     "start_time": "2021-06-22T16:32:54.035861",
     "status": "completed"
    },
    "tags": []
   },
   "outputs": [
    {
     "name": "stdout",
     "output_type": "stream",
     "text": [
      "No. different labels: 180\n"
     ]
    }
   ],
   "source": [
    "all_labels = set()\n",
    "\n",
    "for label_1, label_2, label_3 in train_df[['dataset_title', 'dataset_label', 'cleaned_label']].itertuples(index=False):\n",
    "    all_labels.add(str(label_1).lower())\n",
    "    all_labels.add(str(label_2).lower())\n",
    "    all_labels.add(str(label_3).lower())\n",
    "    \n",
    "print(f'No. different labels: {len(all_labels)}')"
   ]
  },
  {
   "cell_type": "code",
   "execution_count": 38,
   "id": "prompt-interaction",
   "metadata": {
    "execution": {
     "iopub.execute_input": "2021-06-22T16:32:54.674479Z",
     "iopub.status.busy": "2021-06-22T16:32:54.673759Z",
     "iopub.status.idle": "2021-06-22T16:32:54.676619Z",
     "shell.execute_reply": "2021-06-22T16:32:54.676225Z",
     "shell.execute_reply.started": "2021-06-22T16:23:00.617787Z"
    },
    "papermill": {
     "duration": 0.198857,
     "end_time": "2021-06-22T16:32:54.676727",
     "exception": false,
     "start_time": "2021-06-22T16:32:54.477870",
     "status": "completed"
    },
    "tags": []
   },
   "outputs": [],
   "source": [
    "def clean_text(txt):\n",
    "    return re.sub('[^A-Za-z0-9]+', ' ', str(txt).lower()).strip()\n",
    "\n",
    "def totally_clean_text(txt):\n",
    "    txt = clean_text(txt)\n",
    "    txt = re.sub(' +', ' ', txt)\n",
    "    return txt"
   ]
  },
  {
   "cell_type": "code",
   "execution_count": 39,
   "id": "caring-sympathy",
   "metadata": {
    "execution": {
     "iopub.execute_input": "2021-06-22T16:32:55.067834Z",
     "iopub.status.busy": "2021-06-22T16:32:55.067320Z",
     "iopub.status.idle": "2021-06-22T16:32:55.196864Z",
     "shell.execute_reply": "2021-06-22T16:32:55.195598Z"
    },
    "papermill": {
     "duration": 0.327675,
     "end_time": "2021-06-22T16:32:55.197012",
     "exception": false,
     "start_time": "2021-06-22T16:32:54.869337",
     "status": "completed"
    },
    "tags": []
   },
   "outputs": [],
   "source": [
    "paper_test_folder = '../input/coleridgeinitiative-show-us-the-data/test'\n",
    "papers = {}\n",
    "for paper_id in sample_sub['Id']:\n",
    "    with open(f'{paper_test_folder}/{paper_id}.json', 'r') as f:\n",
    "        paper = json.load(f)\n",
    "        papers[paper_id] = paper\n",
    "\n",
    "literal_preds = dict()\n",
    "\n",
    "for paper_id in sample_sub['Id']:\n",
    "    paper = papers[paper_id]\n",
    "    text_1 = '. '.join(section['text'] for section in paper).lower()\n",
    "    text_2 = totally_clean_text(text_1)\n",
    "    \n",
    "    labels = []\n",
    "    for label in all_labels:\n",
    "        if label in text_1 or label in text_2:\n",
    "            labels.append(clean_text(label))\n",
    "    \n",
    "    literal_preds[paper_id] = labels\n"
   ]
  },
  {
   "cell_type": "code",
   "execution_count": 40,
   "id": "collective-operation",
   "metadata": {
    "execution": {
     "iopub.execute_input": "2021-06-22T16:32:55.589288Z",
     "iopub.status.busy": "2021-06-22T16:32:55.588400Z",
     "iopub.status.idle": "2021-06-22T16:32:55.592302Z",
     "shell.execute_reply": "2021-06-22T16:32:55.591880Z"
    },
    "papermill": {
     "duration": 0.201128,
     "end_time": "2021-06-22T16:32:55.592414",
     "exception": false,
     "start_time": "2021-06-22T16:32:55.391286",
     "status": "completed"
    },
    "tags": []
   },
   "outputs": [
    {
     "data": {
      "text/plain": [
       "{'2100032a-7c33-4bff-97ef-690822c43466': ['adni',\n",
       "  'alzheimer s disease neuroimaging initiative adni',\n",
       "  'alzheimer s disease neuroimaging initiative adni'],\n",
       " '2f392438-e215-4169-bebf-21ac4ff253e1': ['nces common core of data',\n",
       "  'trends in international mathematics and science study',\n",
       "  'common core of data'],\n",
       " '3f316b38-1a24-45a9-8d8c-4e05a42257c6': ['slosh model',\n",
       "  'noaa storm surge inundation',\n",
       "  'sea lake and overland surges from hurricanes'],\n",
       " '8e6996b4-ca08-4c0b-bed2-aaf07a4c6a60': ['rural urban continuum codes',\n",
       "  'rural urban continuum codes']}"
      ]
     },
     "execution_count": 40,
     "metadata": {},
     "output_type": "execute_result"
    }
   ],
   "source": [
    "literal_preds"
   ]
  },
  {
   "cell_type": "markdown",
   "id": "residential-richmond",
   "metadata": {
    "papermill": {
     "duration": 0.201781,
     "end_time": "2021-06-22T16:32:55.987161",
     "exception": false,
     "start_time": "2021-06-22T16:32:55.785380",
     "status": "completed"
    },
    "tags": []
   },
   "source": [
    "# 6 This is to load test data and generate result"
   ]
  },
  {
   "cell_type": "code",
   "execution_count": 41,
   "id": "respiratory-calendar",
   "metadata": {
    "execution": {
     "iopub.execute_input": "2021-06-22T16:32:56.380102Z",
     "iopub.status.busy": "2021-06-22T16:32:56.379377Z",
     "iopub.status.idle": "2021-06-22T16:32:56.382248Z",
     "shell.execute_reply": "2021-06-22T16:32:56.381820Z"
    },
    "papermill": {
     "duration": 0.202075,
     "end_time": "2021-06-22T16:32:56.382363",
     "exception": false,
     "start_time": "2021-06-22T16:32:56.180288",
     "status": "completed"
    },
    "tags": []
   },
   "outputs": [],
   "source": [
    "test_data_path = '../input/coleridgeinitiative-show-us-the-data/test'\n",
    "def read_json_pub(Id):\n",
    "    filename = os.path.join(test_data_path, Id+'.json')\n",
    "    with open(filename) as f:\n",
    "        json_pub = json.load(f)\n",
    "    return json_pub"
   ]
  },
  {
   "cell_type": "code",
   "execution_count": 42,
   "id": "presidential-poland",
   "metadata": {
    "execution": {
     "iopub.execute_input": "2021-06-22T16:32:56.782626Z",
     "iopub.status.busy": "2021-06-22T16:32:56.781885Z",
     "iopub.status.idle": "2021-06-22T16:32:56.784776Z",
     "shell.execute_reply": "2021-06-22T16:32:56.784279Z"
    },
    "papermill": {
     "duration": 0.199994,
     "end_time": "2021-06-22T16:32:56.784881",
     "exception": false,
     "start_time": "2021-06-22T16:32:56.584887",
     "status": "completed"
    },
    "tags": []
   },
   "outputs": [],
   "source": [
    "def clean_doc(text):    \n",
    "    symbols_clear = removeSymbols(text)\n",
    "    cleaned = cleanDoc(symbols_clear)\n",
    "    return cleaned"
   ]
  },
  {
   "cell_type": "code",
   "execution_count": 43,
   "id": "interesting-raise",
   "metadata": {
    "execution": {
     "iopub.execute_input": "2021-06-22T16:32:57.174580Z",
     "iopub.status.busy": "2021-06-22T16:32:57.173780Z",
     "iopub.status.idle": "2021-06-22T16:32:57.176659Z",
     "shell.execute_reply": "2021-06-22T16:32:57.176161Z"
    },
    "papermill": {
     "duration": 0.199781,
     "end_time": "2021-06-22T16:32:57.176778",
     "exception": false,
     "start_time": "2021-06-22T16:32:56.976997",
     "status": "completed"
    },
    "tags": []
   },
   "outputs": [],
   "source": [
    "def prepare_data(text):\n",
    "    abstract = getAbstract(text)\n",
    "    cleaned_abstract = clean_doc(abstract)\n",
    "    return abstract"
   ]
  },
  {
   "cell_type": "code",
   "execution_count": 44,
   "id": "solved-continent",
   "metadata": {
    "execution": {
     "iopub.execute_input": "2021-06-22T16:32:57.578261Z",
     "iopub.status.busy": "2021-06-22T16:32:57.577544Z",
     "iopub.status.idle": "2021-06-22T16:32:57.580403Z",
     "shell.execute_reply": "2021-06-22T16:32:57.580007Z"
    },
    "papermill": {
     "duration": 0.209957,
     "end_time": "2021-06-22T16:32:57.580511",
     "exception": false,
     "start_time": "2021-06-22T16:32:57.370554",
     "status": "completed"
    },
    "tags": []
   },
   "outputs": [],
   "source": [
    "# use literal_preds\n",
    "def get_result(result, literal_labels):\n",
    "    prob = dict()\n",
    "    for i, r in enumerate(result):\n",
    "        prob[i] = r[0][1]\n",
    "    prob=sorted(prob.items(),key=lambda x:x[1],reverse=True)\n",
    "    res = []\n",
    "    highest_score = prob[0][1]\n",
    "    for topic_info in prob:\n",
    "        if topic_info[1]/highest_score>0.9 or topic_info[1]>0.5:\n",
    "            res.append(label_dictionary[topic_info[0]])\n",
    "    for label in literal_labels:\n",
    "        if label not in res:\n",
    "            res.append(label)\n",
    "    return ' | '.join(res)        "
   ]
  },
  {
   "cell_type": "code",
   "execution_count": 45,
   "id": "silver-advantage",
   "metadata": {
    "execution": {
     "iopub.execute_input": "2021-06-22T16:32:57.977119Z",
     "iopub.status.busy": "2021-06-22T16:32:57.976320Z",
     "iopub.status.idle": "2021-06-22T16:32:58.133617Z",
     "shell.execute_reply": "2021-06-22T16:32:58.134209Z"
    },
    "papermill": {
     "duration": 0.360491,
     "end_time": "2021-06-22T16:32:58.134383",
     "exception": false,
     "start_time": "2021-06-22T16:32:57.773892",
     "status": "completed"
    },
    "tags": []
   },
   "outputs": [
    {
     "name": "stderr",
     "output_type": "stream",
     "text": [
      "0it [00:00, ?it/s]/opt/conda/lib/python3.7/site-packages/ipykernel_launcher.py:10: SettingWithCopyWarning: \n",
      "A value is trying to be set on a copy of a slice from a DataFrame\n",
      "\n",
      "See the caveats in the documentation: https://pandas.pydata.org/pandas-docs/stable/user_guide/indexing.html#returning-a-view-versus-a-copy\n",
      "  # Remove the CWD from sys.path while we load stuff.\n",
      "4it [00:00, 26.34it/s]\n"
     ]
    }
   ],
   "source": [
    "sample_sub = pd.read_csv(os.path.join(data_path,'sample_submission.csv'))\n",
    "sub = sample_sub.copy()\n",
    "for index, row in tqdm(sub.iterrows()):\n",
    "    row_id = row['Id']\n",
    "    text = read_json_pub(row_id)\n",
    "    text = prepare_data(text)\n",
    "    textVec = data_vectorizer.transform([text])\n",
    "    #print(textVec)\n",
    "    result = multilabel_model.predict_proba(textVec)\n",
    "    sub.PredictionString[sub.Id == row_id] = get_result(result, literal_preds[row_id])\n",
    "    #Id_list.append(row_id)\n",
    "    #sub.PredictionString[sub.Id == row_id] = get_result(text)"
   ]
  },
  {
   "cell_type": "code",
   "execution_count": 46,
   "id": "essential-standing",
   "metadata": {
    "execution": {
     "iopub.execute_input": "2021-06-22T16:32:58.642576Z",
     "iopub.status.busy": "2021-06-22T16:32:58.641737Z",
     "iopub.status.idle": "2021-06-22T16:32:58.649656Z",
     "shell.execute_reply": "2021-06-22T16:32:58.650297Z"
    },
    "papermill": {
     "duration": 0.319247,
     "end_time": "2021-06-22T16:32:58.650480",
     "exception": false,
     "start_time": "2021-06-22T16:32:58.331233",
     "status": "completed"
    },
    "tags": []
   },
   "outputs": [
    {
     "data": {
      "text/html": [
       "<div>\n",
       "<style scoped>\n",
       "    .dataframe tbody tr th:only-of-type {\n",
       "        vertical-align: middle;\n",
       "    }\n",
       "\n",
       "    .dataframe tbody tr th {\n",
       "        vertical-align: top;\n",
       "    }\n",
       "\n",
       "    .dataframe thead th {\n",
       "        text-align: right;\n",
       "    }\n",
       "</style>\n",
       "<table border=\"1\" class=\"dataframe\">\n",
       "  <thead>\n",
       "    <tr style=\"text-align: right;\">\n",
       "      <th></th>\n",
       "      <th>Id</th>\n",
       "      <th>PredictionString</th>\n",
       "    </tr>\n",
       "  </thead>\n",
       "  <tbody>\n",
       "    <tr>\n",
       "      <th>0</th>\n",
       "      <td>2100032a-7c33-4bff-97ef-690822c43466</td>\n",
       "      <td>our world in data | adni | alzheimer s disease...</td>\n",
       "    </tr>\n",
       "    <tr>\n",
       "      <th>1</th>\n",
       "      <td>2f392438-e215-4169-bebf-21ac4ff253e1</td>\n",
       "      <td>survey of graduate students and postdoctorates...</td>\n",
       "    </tr>\n",
       "    <tr>\n",
       "      <th>2</th>\n",
       "      <td>3f316b38-1a24-45a9-8d8c-4e05a42257c6</td>\n",
       "      <td>slosh model | noaa storm surge inundation | se...</td>\n",
       "    </tr>\n",
       "    <tr>\n",
       "      <th>3</th>\n",
       "      <td>8e6996b4-ca08-4c0b-bed2-aaf07a4c6a60</td>\n",
       "      <td>rural urban continuum codes</td>\n",
       "    </tr>\n",
       "  </tbody>\n",
       "</table>\n",
       "</div>"
      ],
      "text/plain": [
       "                                     Id  \\\n",
       "0  2100032a-7c33-4bff-97ef-690822c43466   \n",
       "1  2f392438-e215-4169-bebf-21ac4ff253e1   \n",
       "2  3f316b38-1a24-45a9-8d8c-4e05a42257c6   \n",
       "3  8e6996b4-ca08-4c0b-bed2-aaf07a4c6a60   \n",
       "\n",
       "                                    PredictionString  \n",
       "0  our world in data | adni | alzheimer s disease...  \n",
       "1  survey of graduate students and postdoctorates...  \n",
       "2  slosh model | noaa storm surge inundation | se...  \n",
       "3                        rural urban continuum codes  "
      ]
     },
     "execution_count": 46,
     "metadata": {},
     "output_type": "execute_result"
    }
   ],
   "source": [
    "sub"
   ]
  },
  {
   "cell_type": "code",
   "execution_count": 47,
   "id": "placed-credit",
   "metadata": {
    "execution": {
     "iopub.execute_input": "2021-06-22T16:32:59.313657Z",
     "iopub.status.busy": "2021-06-22T16:32:59.312325Z",
     "iopub.status.idle": "2021-06-22T16:32:59.496638Z",
     "shell.execute_reply": "2021-06-22T16:32:59.497708Z"
    },
    "papermill": {
     "duration": 0.514071,
     "end_time": "2021-06-22T16:32:59.497904",
     "exception": false,
     "start_time": "2021-06-22T16:32:58.983833",
     "status": "completed"
    },
    "tags": []
   },
   "outputs": [],
   "source": [
    "sub.to_csv('submission.csv', index=False)"
   ]
  }
 ],
 "metadata": {
  "kernelspec": {
   "display_name": "Python 3",
   "language": "python",
   "name": "python3"
  },
  "language_info": {
   "codemirror_mode": {
    "name": "ipython",
    "version": 3
   },
   "file_extension": ".py",
   "mimetype": "text/x-python",
   "name": "python",
   "nbconvert_exporter": "python",
   "pygments_lexer": "ipython3",
   "version": "3.7.9"
  },
  "papermill": {
   "default_parameters": {},
   "duration": 342.531389,
   "end_time": "2021-06-22T16:33:01.736957",
   "environment_variables": {},
   "exception": null,
   "input_path": "__notebook__.ipynb",
   "output_path": "__notebook__.ipynb",
   "parameters": {},
   "start_time": "2021-06-22T16:27:19.205568",
   "version": "2.3.2"
  }
 },
 "nbformat": 4,
 "nbformat_minor": 5
}
